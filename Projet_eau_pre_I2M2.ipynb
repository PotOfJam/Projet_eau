{
 "cells": [
  {
   "cell_type": "code",
   "execution_count": 2,
   "metadata": {},
   "outputs": [],
   "source": [
    "from scipy import stats\n",
    "import matplotlib.pyplot as plt\n",
    "import pandas as pd\n",
    "import numpy as np\n",
    "import seaborn as sns\n",
    "import plotly.express as px"
   ]
  },
  {
   "cell_type": "code",
   "execution_count": 3,
   "metadata": {},
   "outputs": [],
   "source": [
    "analyses_I2M2 = pd.read_csv(\"./naiades_export_I2M2/ResultatsBiologiques.CSV\",sep=\";\",parse_dates=[\"DateDebutOperationPrelBio\"])"
   ]
  },
  {
   "cell_type": "code",
   "execution_count": 4,
   "metadata": {},
   "outputs": [
    {
     "data": {
      "text/plain": [
       "Index(['CdStationMesureEauxSurface', 'LbStationMesureEauxSurface',\n",
       "       'CdPointEauxSurf', 'DateDebutOperationPrelBio', 'CdSupport',\n",
       "       'LbSupport', 'DtProdResultatBiologique', 'HeureResultat',\n",
       "       'CdParametreResultatBiologique', 'LbLongParametre',\n",
       "       'ResIndiceResultatBiologique', 'CdUniteMesure', 'SymUniteMesure',\n",
       "       'CdRqIndiceResultatBiologique', 'MnemoRqAna', 'CdMethEval',\n",
       "       'RefOperationPrelBio', 'CdProducteur', 'NomProducteur',\n",
       "       'CdAccredRsIndiceResultatBiologique',\n",
       "       'MnAccredRsIndiceResultatBiologique'],\n",
       "      dtype='object')"
      ]
     },
     "execution_count": 4,
     "metadata": {},
     "output_type": "execute_result"
    }
   ],
   "source": [
    "pd.set_option('display.max_columns', None)\n",
    "analyses_I2M2.columns"
   ]
  },
  {
   "cell_type": "code",
   "execution_count": 5,
   "metadata": {},
   "outputs": [
    {
     "name": "stdout",
     "output_type": "stream",
     "text": [
      "<class 'pandas.core.frame.DataFrame'>\n",
      "RangeIndex: 328 entries, 0 to 327\n",
      "Data columns (total 21 columns):\n",
      " #   Column                              Non-Null Count  Dtype         \n",
      "---  ------                              --------------  -----         \n",
      " 0   CdStationMesureEauxSurface          328 non-null    int64         \n",
      " 1   LbStationMesureEauxSurface          328 non-null    object        \n",
      " 2   CdPointEauxSurf                     328 non-null    int64         \n",
      " 3   DateDebutOperationPrelBio           328 non-null    datetime64[ns]\n",
      " 4   CdSupport                           328 non-null    int64         \n",
      " 5   LbSupport                           328 non-null    object        \n",
      " 6   DtProdResultatBiologique            0 non-null      float64       \n",
      " 7   HeureResultat                       0 non-null      float64       \n",
      " 8   CdParametreResultatBiologique       328 non-null    int64         \n",
      " 9   LbLongParametre                     328 non-null    object        \n",
      " 10  ResIndiceResultatBiologique         328 non-null    float64       \n",
      " 11  CdUniteMesure                       328 non-null    object        \n",
      " 12  SymUniteMesure                      328 non-null    object        \n",
      " 13  CdRqIndiceResultatBiologique        328 non-null    int64         \n",
      " 14  MnemoRqAna                          328 non-null    object        \n",
      " 15  CdMethEval                          17 non-null     object        \n",
      " 16  RefOperationPrelBio                 328 non-null    int64         \n",
      " 17  CdProducteur                        328 non-null    int64         \n",
      " 18  NomProducteur                       328 non-null    object        \n",
      " 19  CdAccredRsIndiceResultatBiologique  328 non-null    int64         \n",
      " 20  MnAccredRsIndiceResultatBiologique  328 non-null    object        \n",
      "dtypes: datetime64[ns](1), float64(3), int64(8), object(9)\n",
      "memory usage: 53.9+ KB\n"
     ]
    }
   ],
   "source": [
    "analyses_I2M2.info()"
   ]
  },
  {
   "cell_type": "code",
   "execution_count": 6,
   "metadata": {},
   "outputs": [
    {
     "data": {
      "text/html": [
       "<div>\n",
       "<style scoped>\n",
       "    .dataframe tbody tr th:only-of-type {\n",
       "        vertical-align: middle;\n",
       "    }\n",
       "\n",
       "    .dataframe tbody tr th {\n",
       "        vertical-align: top;\n",
       "    }\n",
       "\n",
       "    .dataframe thead th {\n",
       "        text-align: right;\n",
       "    }\n",
       "</style>\n",
       "<table border=\"1\" class=\"dataframe\">\n",
       "  <thead>\n",
       "    <tr style=\"text-align: right;\">\n",
       "      <th></th>\n",
       "      <th>CdStationMesureEauxSurface</th>\n",
       "      <th>LbStationMesureEauxSurface</th>\n",
       "      <th>CdPointEauxSurf</th>\n",
       "      <th>DateDebutOperationPrelBio</th>\n",
       "      <th>CdSupport</th>\n",
       "      <th>LbSupport</th>\n",
       "      <th>DtProdResultatBiologique</th>\n",
       "      <th>HeureResultat</th>\n",
       "      <th>CdParametreResultatBiologique</th>\n",
       "      <th>LbLongParametre</th>\n",
       "      <th>ResIndiceResultatBiologique</th>\n",
       "      <th>CdUniteMesure</th>\n",
       "      <th>SymUniteMesure</th>\n",
       "      <th>CdRqIndiceResultatBiologique</th>\n",
       "      <th>MnemoRqAna</th>\n",
       "      <th>CdMethEval</th>\n",
       "      <th>RefOperationPrelBio</th>\n",
       "      <th>CdProducteur</th>\n",
       "      <th>NomProducteur</th>\n",
       "      <th>CdAccredRsIndiceResultatBiologique</th>\n",
       "      <th>MnAccredRsIndiceResultatBiologique</th>\n",
       "    </tr>\n",
       "  </thead>\n",
       "  <tbody>\n",
       "    <tr>\n",
       "      <th>0</th>\n",
       "      <td>2001000</td>\n",
       "      <td>L'AUGRABEN À BARTENHEIM</td>\n",
       "      <td>2</td>\n",
       "      <td>2020-07-07</td>\n",
       "      <td>13</td>\n",
       "      <td>Macroinvertébrés aquatiques</td>\n",
       "      <td>NaN</td>\n",
       "      <td>NaN</td>\n",
       "      <td>7613</td>\n",
       "      <td>Indice Invertébrés Multimétrique (I2M2)</td>\n",
       "      <td>0.3387</td>\n",
       "      <td>X</td>\n",
       "      <td>X</td>\n",
       "      <td>1</td>\n",
       "      <td>Résultat &gt; seuil de quantification et &lt; au seu...</td>\n",
       "      <td>NaN</td>\n",
       "      <td>7082963</td>\n",
       "      <td>13001025900021</td>\n",
       "      <td>DIRECTION REGIONALE DE L'ENVIRONNEMENT DE L'AM...</td>\n",
       "      <td>1</td>\n",
       "      <td>Analyse réalisée sous accréditation</td>\n",
       "    </tr>\n",
       "    <tr>\n",
       "      <th>1</th>\n",
       "      <td>2001000</td>\n",
       "      <td>L'AUGRABEN À BARTENHEIM</td>\n",
       "      <td>2</td>\n",
       "      <td>2021-08-25</td>\n",
       "      <td>13</td>\n",
       "      <td>Macroinvertébrés aquatiques</td>\n",
       "      <td>NaN</td>\n",
       "      <td>NaN</td>\n",
       "      <td>7613</td>\n",
       "      <td>Indice Invertébrés Multimétrique (I2M2)</td>\n",
       "      <td>0.2082</td>\n",
       "      <td>X</td>\n",
       "      <td>X</td>\n",
       "      <td>1</td>\n",
       "      <td>Résultat &gt; seuil de quantification et &lt; au seu...</td>\n",
       "      <td>NaN</td>\n",
       "      <td>7089758</td>\n",
       "      <td>13001025900021</td>\n",
       "      <td>DIRECTION REGIONALE DE L'ENVIRONNEMENT DE L'AM...</td>\n",
       "      <td>1</td>\n",
       "      <td>Analyse réalisée sous accréditation</td>\n",
       "    </tr>\n",
       "  </tbody>\n",
       "</table>\n",
       "</div>"
      ],
      "text/plain": [
       "   CdStationMesureEauxSurface LbStationMesureEauxSurface  CdPointEauxSurf  \\\n",
       "0                     2001000    L'AUGRABEN À BARTENHEIM                2   \n",
       "1                     2001000    L'AUGRABEN À BARTENHEIM                2   \n",
       "\n",
       "  DateDebutOperationPrelBio  CdSupport                    LbSupport  \\\n",
       "0                2020-07-07         13  Macroinvertébrés aquatiques   \n",
       "1                2021-08-25         13  Macroinvertébrés aquatiques   \n",
       "\n",
       "   DtProdResultatBiologique  HeureResultat  CdParametreResultatBiologique  \\\n",
       "0                       NaN            NaN                           7613   \n",
       "1                       NaN            NaN                           7613   \n",
       "\n",
       "                           LbLongParametre  ResIndiceResultatBiologique  \\\n",
       "0  Indice Invertébrés Multimétrique (I2M2)                       0.3387   \n",
       "1  Indice Invertébrés Multimétrique (I2M2)                       0.2082   \n",
       "\n",
       "  CdUniteMesure SymUniteMesure  CdRqIndiceResultatBiologique  \\\n",
       "0             X              X                             1   \n",
       "1             X              X                             1   \n",
       "\n",
       "                                          MnemoRqAna CdMethEval  \\\n",
       "0  Résultat > seuil de quantification et < au seu...        NaN   \n",
       "1  Résultat > seuil de quantification et < au seu...        NaN   \n",
       "\n",
       "   RefOperationPrelBio    CdProducteur  \\\n",
       "0              7082963  13001025900021   \n",
       "1              7089758  13001025900021   \n",
       "\n",
       "                                       NomProducteur  \\\n",
       "0  DIRECTION REGIONALE DE L'ENVIRONNEMENT DE L'AM...   \n",
       "1  DIRECTION REGIONALE DE L'ENVIRONNEMENT DE L'AM...   \n",
       "\n",
       "   CdAccredRsIndiceResultatBiologique   MnAccredRsIndiceResultatBiologique  \n",
       "0                                   1  Analyse réalisée sous accréditation  \n",
       "1                                   1  Analyse réalisée sous accréditation  "
      ]
     },
     "execution_count": 6,
     "metadata": {},
     "output_type": "execute_result"
    }
   ],
   "source": [
    "analyses_I2M2.loc[analyses_I2M2['CdStationMesureEauxSurface'] == 2001000]"
   ]
  },
  {
   "cell_type": "code",
   "execution_count": 7,
   "metadata": {},
   "outputs": [
    {
     "data": {
      "text/plain": [
       "CdStationMesureEauxSurface\n",
       "6408800    4\n",
       "6000990    4\n",
       "2045350    2\n",
       "2045283    2\n",
       "2045200    2\n",
       "          ..\n",
       "6001312    1\n",
       "6001313    1\n",
       "6001314    1\n",
       "6001316    1\n",
       "2001006    1\n",
       "Length: 203, dtype: int64"
      ]
     },
     "execution_count": 7,
     "metadata": {},
     "output_type": "execute_result"
    }
   ],
   "source": [
    "# Order by the number of I2M2 analysis on one station\n",
    "analyses_I2M2.groupby(['CdStationMesureEauxSurface']).size().sort_values(ascending=False)"
   ]
  },
  {
   "cell_type": "code",
   "execution_count": 8,
   "metadata": {},
   "outputs": [
    {
     "data": {
      "text/plain": [
       "1.6157635467980296"
      ]
     },
     "execution_count": 8,
     "metadata": {},
     "output_type": "execute_result"
    }
   ],
   "source": [
    "# Number of I2M2 analysis per station\n",
    "analyses_I2M2.groupby(['CdStationMesureEauxSurface']).size().mean()"
   ]
  },
  {
   "cell_type": "code",
   "execution_count": 9,
   "metadata": {},
   "outputs": [],
   "source": [
    "analyses_I2M2 = analyses_I2M2[pd.to_datetime(analyses_I2M2['DateDebutOperationPrelBio']).dt.year != 2022]\n",
    "analyses_I2M2 = analyses_I2M2[pd.to_datetime(analyses_I2M2['DateDebutOperationPrelBio']).dt.year != 2023]"
   ]
  },
  {
   "cell_type": "code",
   "execution_count": 10,
   "metadata": {},
   "outputs": [
    {
     "data": {
      "text/plain": [
       "1.6059113300492611"
      ]
     },
     "execution_count": 10,
     "metadata": {},
     "output_type": "execute_result"
    }
   ],
   "source": [
    "# Number of I2M2 analysis per station after erasing the recent dates\n",
    "analyses_I2M2.groupby(['CdStationMesureEauxSurface']).size().mean()"
   ]
  },
  {
   "cell_type": "code",
   "execution_count": 11,
   "metadata": {},
   "outputs": [
    {
     "name": "stdout",
     "output_type": "stream",
     "text": [
      "     CdStationMesureEauxSurface  ResIndiceResultatBiologique  \\\n",
      "1                       2001000                       0.2082   \n",
      "2                       2001006                       0.4760   \n",
      "5                       2001025                       0.1127   \n",
      "6                       2001030                       0.0454   \n",
      "9                       2001500                       0.3451   \n",
      "..                          ...                          ...   \n",
      "318                     6001313                       0.3120   \n",
      "319                     6001314                       0.5280   \n",
      "320                     6001316                       0.5930   \n",
      "325                     6408800                       0.8900   \n",
      "327                     6455540                       0.3150   \n",
      "\n",
      "    DateDebutOperationPrelBio  \n",
      "1                  2021-08-25  \n",
      "2                  2021-05-26  \n",
      "5                  2021-08-06  \n",
      "6                  2021-08-06  \n",
      "9                  2021-08-05  \n",
      "..                        ...  \n",
      "318                2021-07-11  \n",
      "319                2021-07-11  \n",
      "320                2021-07-11  \n",
      "325                2021-08-31  \n",
      "327                2021-09-02  \n",
      "\n",
      "[168 rows x 3 columns]\n"
     ]
    }
   ],
   "source": [
    "new_df = analyses_I2M2.loc[:, ['CdStationMesureEauxSurface', 'ResIndiceResultatBiologique', 'DateDebutOperationPrelBio']]\n",
    "new_df = new_df[pd.to_datetime(new_df['DateDebutOperationPrelBio']).dt.year == 2021]\n",
    "print(new_df)\n"
   ]
  },
  {
   "cell_type": "code",
   "execution_count": 12,
   "metadata": {},
   "outputs": [
    {
     "data": {
      "text/plain": [
       "array([2001000, 2001006, 2001025, 2001030, 2001500, 2001738, 2001750,\n",
       "       2002000, 2002800, 2003100, 2003200, 2003350, 2003400, 2003670,\n",
       "       2003800, 2004000, 2004300, 2005700, 2007000, 2009000, 2009085,\n",
       "       2010000, 2011000, 2013000, 2015500, 2016050, 2017000, 2017850,\n",
       "       2018000, 2018500, 2018780, 2019000, 2020000, 2021000, 2022675,\n",
       "       2023000, 2024000, 2025100, 2025200, 2025700, 2026200, 2026500,\n",
       "       2028000, 2028300, 2028500, 2029000, 2029160, 2030200, 2030500,\n",
       "       2031400, 2031650, 2032000, 2035000, 2036000, 2037400, 2037500,\n",
       "       2041000, 2041230, 2041650, 2041750, 2041950, 2042000, 2042050,\n",
       "       2043017, 2043500, 2043600, 2043655, 2043750, 2044100, 2044400,\n",
       "       2045000, 2045050, 2045150, 2045200, 2045283, 2045350, 2045500,\n",
       "       2046000, 2046550, 2047000, 2047500, 2047750, 2048960, 2048980,\n",
       "       2049000, 2049500, 2049900, 2050000, 2051500, 2051600, 2051820,\n",
       "       2052000, 2052500, 2054900, 2055100, 2057480, 2061500, 2061970,\n",
       "       2063000, 2064770, 2065090, 2065280, 2065500, 2068700, 2068790,\n",
       "       2068800, 2070500, 2080200, 2080500, 2081000, 2081030, 2081100,\n",
       "       2081300, 2082350, 2082845, 2082970, 2084100, 2084650, 2084800,\n",
       "       2089000, 2093170, 2093600, 2094000, 2094500, 2094700, 2094800,\n",
       "       2094920, 2094930, 2094940, 2094950, 2094973, 2094979, 2096480,\n",
       "       2096500, 2096520, 2096900, 2096975, 2097000, 2098200, 2098800,\n",
       "       2098980, 2099550, 2099800, 2100100, 2100603, 2100830, 2101050,\n",
       "       2103800, 2103850, 2103950, 2104000, 2104400, 2105000, 2106430,\n",
       "       2106665, 2106750, 2106800, 2106850, 2106862, 2106900, 2107600,\n",
       "       6000990, 6001312, 6001313, 6001314, 6001316, 6408800, 6455540])"
      ]
     },
     "execution_count": 12,
     "metadata": {},
     "output_type": "execute_result"
    }
   ],
   "source": [
    "# Number of remaining stations\n",
    "new_df['CdStationMesureEauxSurface'].unique()"
   ]
  }
 ],
 "metadata": {
  "kernelspec": {
   "display_name": "Python 3",
   "language": "python",
   "name": "python3"
  },
  "language_info": {
   "codemirror_mode": {
    "name": "ipython",
    "version": 3
   },
   "file_extension": ".py",
   "mimetype": "text/x-python",
   "name": "python",
   "nbconvert_exporter": "python",
   "pygments_lexer": "ipython3",
   "version": "3.10.12"
  }
 },
 "nbformat": 4,
 "nbformat_minor": 2
}
